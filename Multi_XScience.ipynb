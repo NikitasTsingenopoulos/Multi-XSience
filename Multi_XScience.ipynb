{
  "nbformat": 4,
  "nbformat_minor": 0,
  "metadata": {
    "colab": {
      "provenance": [],
      "authorship_tag": "ABX9TyN58M3cONH+5HrJnbWT6S99",
      "include_colab_link": true
    },
    "kernelspec": {
      "name": "python3",
      "display_name": "Python 3"
    },
    "language_info": {
      "name": "python"
    },
    "widgets": {
      "application/vnd.jupyter.widget-state+json": {
        "c24b0a5450824202a0c2ee1c205367a6": {
          "model_module": "@jupyter-widgets/controls",
          "model_name": "HBoxModel",
          "model_module_version": "1.5.0",
          "state": {
            "_dom_classes": [],
            "_model_module": "@jupyter-widgets/controls",
            "_model_module_version": "1.5.0",
            "_model_name": "HBoxModel",
            "_view_count": null,
            "_view_module": "@jupyter-widgets/controls",
            "_view_module_version": "1.5.0",
            "_view_name": "HBoxView",
            "box_style": "",
            "children": [
              "IPY_MODEL_ae3421ccb71a4be7a2245f4aedfb21fd",
              "IPY_MODEL_ff537000679e4cb9856b4b5742868474",
              "IPY_MODEL_c02dab2914914ff49f4fa5997bb02437"
            ],
            "layout": "IPY_MODEL_c4356737a6ce4c7ca1334ea898bfb2f6"
          }
        },
        "ae3421ccb71a4be7a2245f4aedfb21fd": {
          "model_module": "@jupyter-widgets/controls",
          "model_name": "HTMLModel",
          "model_module_version": "1.5.0",
          "state": {
            "_dom_classes": [],
            "_model_module": "@jupyter-widgets/controls",
            "_model_module_version": "1.5.0",
            "_model_name": "HTMLModel",
            "_view_count": null,
            "_view_module": "@jupyter-widgets/controls",
            "_view_module_version": "1.5.0",
            "_view_name": "HTMLView",
            "description": "",
            "description_tooltip": null,
            "layout": "IPY_MODEL_08ad640561a24720915d5b2c6e32e353",
            "placeholder": "​",
            "style": "IPY_MODEL_dbed6e70a1ad4ab78e27a27def419c02",
            "value": "Map: 100%"
          }
        },
        "ff537000679e4cb9856b4b5742868474": {
          "model_module": "@jupyter-widgets/controls",
          "model_name": "FloatProgressModel",
          "model_module_version": "1.5.0",
          "state": {
            "_dom_classes": [],
            "_model_module": "@jupyter-widgets/controls",
            "_model_module_version": "1.5.0",
            "_model_name": "FloatProgressModel",
            "_view_count": null,
            "_view_module": "@jupyter-widgets/controls",
            "_view_module_version": "1.5.0",
            "_view_name": "ProgressView",
            "bar_style": "success",
            "description": "",
            "description_tooltip": null,
            "layout": "IPY_MODEL_67624e56d4c346f788fe8335d77a4c61",
            "max": 5,
            "min": 0,
            "orientation": "horizontal",
            "style": "IPY_MODEL_bc8e41d112354b5693f85929e5119cf3",
            "value": 5
          }
        },
        "c02dab2914914ff49f4fa5997bb02437": {
          "model_module": "@jupyter-widgets/controls",
          "model_name": "HTMLModel",
          "model_module_version": "1.5.0",
          "state": {
            "_dom_classes": [],
            "_model_module": "@jupyter-widgets/controls",
            "_model_module_version": "1.5.0",
            "_model_name": "HTMLModel",
            "_view_count": null,
            "_view_module": "@jupyter-widgets/controls",
            "_view_module_version": "1.5.0",
            "_view_name": "HTMLView",
            "description": "",
            "description_tooltip": null,
            "layout": "IPY_MODEL_07e1c0aaf4844354a5f64ff8c1bc754c",
            "placeholder": "​",
            "style": "IPY_MODEL_fce279d4cbd947e98436baacae7bf069",
            "value": " 5/5 [06:17&lt;00:00, 74.98s/ examples]"
          }
        },
        "c4356737a6ce4c7ca1334ea898bfb2f6": {
          "model_module": "@jupyter-widgets/base",
          "model_name": "LayoutModel",
          "model_module_version": "1.2.0",
          "state": {
            "_model_module": "@jupyter-widgets/base",
            "_model_module_version": "1.2.0",
            "_model_name": "LayoutModel",
            "_view_count": null,
            "_view_module": "@jupyter-widgets/base",
            "_view_module_version": "1.2.0",
            "_view_name": "LayoutView",
            "align_content": null,
            "align_items": null,
            "align_self": null,
            "border": null,
            "bottom": null,
            "display": null,
            "flex": null,
            "flex_flow": null,
            "grid_area": null,
            "grid_auto_columns": null,
            "grid_auto_flow": null,
            "grid_auto_rows": null,
            "grid_column": null,
            "grid_gap": null,
            "grid_row": null,
            "grid_template_areas": null,
            "grid_template_columns": null,
            "grid_template_rows": null,
            "height": null,
            "justify_content": null,
            "justify_items": null,
            "left": null,
            "margin": null,
            "max_height": null,
            "max_width": null,
            "min_height": null,
            "min_width": null,
            "object_fit": null,
            "object_position": null,
            "order": null,
            "overflow": null,
            "overflow_x": null,
            "overflow_y": null,
            "padding": null,
            "right": null,
            "top": null,
            "visibility": null,
            "width": null
          }
        },
        "08ad640561a24720915d5b2c6e32e353": {
          "model_module": "@jupyter-widgets/base",
          "model_name": "LayoutModel",
          "model_module_version": "1.2.0",
          "state": {
            "_model_module": "@jupyter-widgets/base",
            "_model_module_version": "1.2.0",
            "_model_name": "LayoutModel",
            "_view_count": null,
            "_view_module": "@jupyter-widgets/base",
            "_view_module_version": "1.2.0",
            "_view_name": "LayoutView",
            "align_content": null,
            "align_items": null,
            "align_self": null,
            "border": null,
            "bottom": null,
            "display": null,
            "flex": null,
            "flex_flow": null,
            "grid_area": null,
            "grid_auto_columns": null,
            "grid_auto_flow": null,
            "grid_auto_rows": null,
            "grid_column": null,
            "grid_gap": null,
            "grid_row": null,
            "grid_template_areas": null,
            "grid_template_columns": null,
            "grid_template_rows": null,
            "height": null,
            "justify_content": null,
            "justify_items": null,
            "left": null,
            "margin": null,
            "max_height": null,
            "max_width": null,
            "min_height": null,
            "min_width": null,
            "object_fit": null,
            "object_position": null,
            "order": null,
            "overflow": null,
            "overflow_x": null,
            "overflow_y": null,
            "padding": null,
            "right": null,
            "top": null,
            "visibility": null,
            "width": null
          }
        },
        "dbed6e70a1ad4ab78e27a27def419c02": {
          "model_module": "@jupyter-widgets/controls",
          "model_name": "DescriptionStyleModel",
          "model_module_version": "1.5.0",
          "state": {
            "_model_module": "@jupyter-widgets/controls",
            "_model_module_version": "1.5.0",
            "_model_name": "DescriptionStyleModel",
            "_view_count": null,
            "_view_module": "@jupyter-widgets/base",
            "_view_module_version": "1.2.0",
            "_view_name": "StyleView",
            "description_width": ""
          }
        },
        "67624e56d4c346f788fe8335d77a4c61": {
          "model_module": "@jupyter-widgets/base",
          "model_name": "LayoutModel",
          "model_module_version": "1.2.0",
          "state": {
            "_model_module": "@jupyter-widgets/base",
            "_model_module_version": "1.2.0",
            "_model_name": "LayoutModel",
            "_view_count": null,
            "_view_module": "@jupyter-widgets/base",
            "_view_module_version": "1.2.0",
            "_view_name": "LayoutView",
            "align_content": null,
            "align_items": null,
            "align_self": null,
            "border": null,
            "bottom": null,
            "display": null,
            "flex": null,
            "flex_flow": null,
            "grid_area": null,
            "grid_auto_columns": null,
            "grid_auto_flow": null,
            "grid_auto_rows": null,
            "grid_column": null,
            "grid_gap": null,
            "grid_row": null,
            "grid_template_areas": null,
            "grid_template_columns": null,
            "grid_template_rows": null,
            "height": null,
            "justify_content": null,
            "justify_items": null,
            "left": null,
            "margin": null,
            "max_height": null,
            "max_width": null,
            "min_height": null,
            "min_width": null,
            "object_fit": null,
            "object_position": null,
            "order": null,
            "overflow": null,
            "overflow_x": null,
            "overflow_y": null,
            "padding": null,
            "right": null,
            "top": null,
            "visibility": null,
            "width": null
          }
        },
        "bc8e41d112354b5693f85929e5119cf3": {
          "model_module": "@jupyter-widgets/controls",
          "model_name": "ProgressStyleModel",
          "model_module_version": "1.5.0",
          "state": {
            "_model_module": "@jupyter-widgets/controls",
            "_model_module_version": "1.5.0",
            "_model_name": "ProgressStyleModel",
            "_view_count": null,
            "_view_module": "@jupyter-widgets/base",
            "_view_module_version": "1.2.0",
            "_view_name": "StyleView",
            "bar_color": null,
            "description_width": ""
          }
        },
        "07e1c0aaf4844354a5f64ff8c1bc754c": {
          "model_module": "@jupyter-widgets/base",
          "model_name": "LayoutModel",
          "model_module_version": "1.2.0",
          "state": {
            "_model_module": "@jupyter-widgets/base",
            "_model_module_version": "1.2.0",
            "_model_name": "LayoutModel",
            "_view_count": null,
            "_view_module": "@jupyter-widgets/base",
            "_view_module_version": "1.2.0",
            "_view_name": "LayoutView",
            "align_content": null,
            "align_items": null,
            "align_self": null,
            "border": null,
            "bottom": null,
            "display": null,
            "flex": null,
            "flex_flow": null,
            "grid_area": null,
            "grid_auto_columns": null,
            "grid_auto_flow": null,
            "grid_auto_rows": null,
            "grid_column": null,
            "grid_gap": null,
            "grid_row": null,
            "grid_template_areas": null,
            "grid_template_columns": null,
            "grid_template_rows": null,
            "height": null,
            "justify_content": null,
            "justify_items": null,
            "left": null,
            "margin": null,
            "max_height": null,
            "max_width": null,
            "min_height": null,
            "min_width": null,
            "object_fit": null,
            "object_position": null,
            "order": null,
            "overflow": null,
            "overflow_x": null,
            "overflow_y": null,
            "padding": null,
            "right": null,
            "top": null,
            "visibility": null,
            "width": null
          }
        },
        "fce279d4cbd947e98436baacae7bf069": {
          "model_module": "@jupyter-widgets/controls",
          "model_name": "DescriptionStyleModel",
          "model_module_version": "1.5.0",
          "state": {
            "_model_module": "@jupyter-widgets/controls",
            "_model_module_version": "1.5.0",
            "_model_name": "DescriptionStyleModel",
            "_view_count": null,
            "_view_module": "@jupyter-widgets/base",
            "_view_module_version": "1.2.0",
            "_view_name": "StyleView",
            "description_width": ""
          }
        },
        "e48339ec43a14e4cb74459e7d3e7ebb2": {
          "model_module": "@jupyter-widgets/controls",
          "model_name": "HBoxModel",
          "model_module_version": "1.5.0",
          "state": {
            "_dom_classes": [],
            "_model_module": "@jupyter-widgets/controls",
            "_model_module_version": "1.5.0",
            "_model_name": "HBoxModel",
            "_view_count": null,
            "_view_module": "@jupyter-widgets/controls",
            "_view_module_version": "1.5.0",
            "_view_name": "HBoxView",
            "box_style": "",
            "children": [
              "IPY_MODEL_f1376ee08cd74726957308f37a7a8702",
              "IPY_MODEL_bcf7a89af69c42b48c86f00b7885063a",
              "IPY_MODEL_2ff9d078f96f41f7b3bc1a26253c2195"
            ],
            "layout": "IPY_MODEL_d1ec2d9865534d91b33d610c9ad84ad0"
          }
        },
        "f1376ee08cd74726957308f37a7a8702": {
          "model_module": "@jupyter-widgets/controls",
          "model_name": "HTMLModel",
          "model_module_version": "1.5.0",
          "state": {
            "_dom_classes": [],
            "_model_module": "@jupyter-widgets/controls",
            "_model_module_version": "1.5.0",
            "_model_name": "HTMLModel",
            "_view_count": null,
            "_view_module": "@jupyter-widgets/controls",
            "_view_module_version": "1.5.0",
            "_view_name": "HTMLView",
            "description": "",
            "description_tooltip": null,
            "layout": "IPY_MODEL_5c8896fc9d7d42b3a6438ac5fd4503e2",
            "placeholder": "​",
            "style": "IPY_MODEL_77a61bda6ede497386dd3af1e1054085",
            "value": "Downloading builder script: "
          }
        },
        "bcf7a89af69c42b48c86f00b7885063a": {
          "model_module": "@jupyter-widgets/controls",
          "model_name": "FloatProgressModel",
          "model_module_version": "1.5.0",
          "state": {
            "_dom_classes": [],
            "_model_module": "@jupyter-widgets/controls",
            "_model_module_version": "1.5.0",
            "_model_name": "FloatProgressModel",
            "_view_count": null,
            "_view_module": "@jupyter-widgets/controls",
            "_view_module_version": "1.5.0",
            "_view_name": "ProgressView",
            "bar_style": "success",
            "description": "",
            "description_tooltip": null,
            "layout": "IPY_MODEL_29ba4770051a4130ac4911801b3acf0a",
            "max": 1,
            "min": 0,
            "orientation": "horizontal",
            "style": "IPY_MODEL_63fac327d36c44c29a08be26daaa7dbd",
            "value": 1
          }
        },
        "2ff9d078f96f41f7b3bc1a26253c2195": {
          "model_module": "@jupyter-widgets/controls",
          "model_name": "HTMLModel",
          "model_module_version": "1.5.0",
          "state": {
            "_dom_classes": [],
            "_model_module": "@jupyter-widgets/controls",
            "_model_module_version": "1.5.0",
            "_model_name": "HTMLModel",
            "_view_count": null,
            "_view_module": "@jupyter-widgets/controls",
            "_view_module_version": "1.5.0",
            "_view_name": "HTMLView",
            "description": "",
            "description_tooltip": null,
            "layout": "IPY_MODEL_3d61ca0a30d74725ba61614675f2412a",
            "placeholder": "​",
            "style": "IPY_MODEL_2fdcb53b01894ccc96240430eac6d408",
            "value": " 6.27k/? [00:00&lt;00:00, 170kB/s]"
          }
        },
        "d1ec2d9865534d91b33d610c9ad84ad0": {
          "model_module": "@jupyter-widgets/base",
          "model_name": "LayoutModel",
          "model_module_version": "1.2.0",
          "state": {
            "_model_module": "@jupyter-widgets/base",
            "_model_module_version": "1.2.0",
            "_model_name": "LayoutModel",
            "_view_count": null,
            "_view_module": "@jupyter-widgets/base",
            "_view_module_version": "1.2.0",
            "_view_name": "LayoutView",
            "align_content": null,
            "align_items": null,
            "align_self": null,
            "border": null,
            "bottom": null,
            "display": null,
            "flex": null,
            "flex_flow": null,
            "grid_area": null,
            "grid_auto_columns": null,
            "grid_auto_flow": null,
            "grid_auto_rows": null,
            "grid_column": null,
            "grid_gap": null,
            "grid_row": null,
            "grid_template_areas": null,
            "grid_template_columns": null,
            "grid_template_rows": null,
            "height": null,
            "justify_content": null,
            "justify_items": null,
            "left": null,
            "margin": null,
            "max_height": null,
            "max_width": null,
            "min_height": null,
            "min_width": null,
            "object_fit": null,
            "object_position": null,
            "order": null,
            "overflow": null,
            "overflow_x": null,
            "overflow_y": null,
            "padding": null,
            "right": null,
            "top": null,
            "visibility": null,
            "width": null
          }
        },
        "5c8896fc9d7d42b3a6438ac5fd4503e2": {
          "model_module": "@jupyter-widgets/base",
          "model_name": "LayoutModel",
          "model_module_version": "1.2.0",
          "state": {
            "_model_module": "@jupyter-widgets/base",
            "_model_module_version": "1.2.0",
            "_model_name": "LayoutModel",
            "_view_count": null,
            "_view_module": "@jupyter-widgets/base",
            "_view_module_version": "1.2.0",
            "_view_name": "LayoutView",
            "align_content": null,
            "align_items": null,
            "align_self": null,
            "border": null,
            "bottom": null,
            "display": null,
            "flex": null,
            "flex_flow": null,
            "grid_area": null,
            "grid_auto_columns": null,
            "grid_auto_flow": null,
            "grid_auto_rows": null,
            "grid_column": null,
            "grid_gap": null,
            "grid_row": null,
            "grid_template_areas": null,
            "grid_template_columns": null,
            "grid_template_rows": null,
            "height": null,
            "justify_content": null,
            "justify_items": null,
            "left": null,
            "margin": null,
            "max_height": null,
            "max_width": null,
            "min_height": null,
            "min_width": null,
            "object_fit": null,
            "object_position": null,
            "order": null,
            "overflow": null,
            "overflow_x": null,
            "overflow_y": null,
            "padding": null,
            "right": null,
            "top": null,
            "visibility": null,
            "width": null
          }
        },
        "77a61bda6ede497386dd3af1e1054085": {
          "model_module": "@jupyter-widgets/controls",
          "model_name": "DescriptionStyleModel",
          "model_module_version": "1.5.0",
          "state": {
            "_model_module": "@jupyter-widgets/controls",
            "_model_module_version": "1.5.0",
            "_model_name": "DescriptionStyleModel",
            "_view_count": null,
            "_view_module": "@jupyter-widgets/base",
            "_view_module_version": "1.2.0",
            "_view_name": "StyleView",
            "description_width": ""
          }
        },
        "29ba4770051a4130ac4911801b3acf0a": {
          "model_module": "@jupyter-widgets/base",
          "model_name": "LayoutModel",
          "model_module_version": "1.2.0",
          "state": {
            "_model_module": "@jupyter-widgets/base",
            "_model_module_version": "1.2.0",
            "_model_name": "LayoutModel",
            "_view_count": null,
            "_view_module": "@jupyter-widgets/base",
            "_view_module_version": "1.2.0",
            "_view_name": "LayoutView",
            "align_content": null,
            "align_items": null,
            "align_self": null,
            "border": null,
            "bottom": null,
            "display": null,
            "flex": null,
            "flex_flow": null,
            "grid_area": null,
            "grid_auto_columns": null,
            "grid_auto_flow": null,
            "grid_auto_rows": null,
            "grid_column": null,
            "grid_gap": null,
            "grid_row": null,
            "grid_template_areas": null,
            "grid_template_columns": null,
            "grid_template_rows": null,
            "height": null,
            "justify_content": null,
            "justify_items": null,
            "left": null,
            "margin": null,
            "max_height": null,
            "max_width": null,
            "min_height": null,
            "min_width": null,
            "object_fit": null,
            "object_position": null,
            "order": null,
            "overflow": null,
            "overflow_x": null,
            "overflow_y": null,
            "padding": null,
            "right": null,
            "top": null,
            "visibility": null,
            "width": "20px"
          }
        },
        "63fac327d36c44c29a08be26daaa7dbd": {
          "model_module": "@jupyter-widgets/controls",
          "model_name": "ProgressStyleModel",
          "model_module_version": "1.5.0",
          "state": {
            "_model_module": "@jupyter-widgets/controls",
            "_model_module_version": "1.5.0",
            "_model_name": "ProgressStyleModel",
            "_view_count": null,
            "_view_module": "@jupyter-widgets/base",
            "_view_module_version": "1.2.0",
            "_view_name": "StyleView",
            "bar_color": null,
            "description_width": ""
          }
        },
        "3d61ca0a30d74725ba61614675f2412a": {
          "model_module": "@jupyter-widgets/base",
          "model_name": "LayoutModel",
          "model_module_version": "1.2.0",
          "state": {
            "_model_module": "@jupyter-widgets/base",
            "_model_module_version": "1.2.0",
            "_model_name": "LayoutModel",
            "_view_count": null,
            "_view_module": "@jupyter-widgets/base",
            "_view_module_version": "1.2.0",
            "_view_name": "LayoutView",
            "align_content": null,
            "align_items": null,
            "align_self": null,
            "border": null,
            "bottom": null,
            "display": null,
            "flex": null,
            "flex_flow": null,
            "grid_area": null,
            "grid_auto_columns": null,
            "grid_auto_flow": null,
            "grid_auto_rows": null,
            "grid_column": null,
            "grid_gap": null,
            "grid_row": null,
            "grid_template_areas": null,
            "grid_template_columns": null,
            "grid_template_rows": null,
            "height": null,
            "justify_content": null,
            "justify_items": null,
            "left": null,
            "margin": null,
            "max_height": null,
            "max_width": null,
            "min_height": null,
            "min_width": null,
            "object_fit": null,
            "object_position": null,
            "order": null,
            "overflow": null,
            "overflow_x": null,
            "overflow_y": null,
            "padding": null,
            "right": null,
            "top": null,
            "visibility": null,
            "width": null
          }
        },
        "2fdcb53b01894ccc96240430eac6d408": {
          "model_module": "@jupyter-widgets/controls",
          "model_name": "DescriptionStyleModel",
          "model_module_version": "1.5.0",
          "state": {
            "_model_module": "@jupyter-widgets/controls",
            "_model_module_version": "1.5.0",
            "_model_name": "DescriptionStyleModel",
            "_view_count": null,
            "_view_module": "@jupyter-widgets/base",
            "_view_module_version": "1.2.0",
            "_view_name": "StyleView",
            "description_width": ""
          }
        }
      }
    }
  },
  "cells": [
    {
      "cell_type": "markdown",
      "metadata": {
        "id": "view-in-github",
        "colab_type": "text"
      },
      "source": [
        "<a href=\"https://colab.research.google.com/github/NikitasTsingenopoulos/Multi-XSience/blob/main/Multi_XScience.ipynb\" target=\"_parent\"><img src=\"https://colab.research.google.com/assets/colab-badge.svg\" alt=\"Open In Colab\"/></a>"
      ]
    },
    {
      "cell_type": "code",
      "execution_count": null,
      "metadata": {
        "colab": {
          "base_uri": "https://localhost:8080/"
        },
        "collapsed": true,
        "id": "4G7hFi3K9kwD",
        "outputId": "8493f6da-db08-4f47-a176-94d12565c3dc"
      },
      "outputs": [
        {
          "output_type": "stream",
          "name": "stdout",
          "text": [
            "Requirement already satisfied: datasets in /usr/local/lib/python3.11/dist-packages (4.0.0)\n",
            "Requirement already satisfied: filelock in /usr/local/lib/python3.11/dist-packages (from datasets) (3.18.0)\n",
            "Requirement already satisfied: numpy>=1.17 in /usr/local/lib/python3.11/dist-packages (from datasets) (2.0.2)\n",
            "Requirement already satisfied: pyarrow>=15.0.0 in /usr/local/lib/python3.11/dist-packages (from datasets) (18.1.0)\n",
            "Requirement already satisfied: dill<0.3.9,>=0.3.0 in /usr/local/lib/python3.11/dist-packages (from datasets) (0.3.7)\n",
            "Requirement already satisfied: pandas in /usr/local/lib/python3.11/dist-packages (from datasets) (2.2.2)\n",
            "Requirement already satisfied: requests>=2.32.2 in /usr/local/lib/python3.11/dist-packages (from datasets) (2.32.3)\n",
            "Requirement already satisfied: tqdm>=4.66.3 in /usr/local/lib/python3.11/dist-packages (from datasets) (4.67.1)\n",
            "Requirement already satisfied: xxhash in /usr/local/lib/python3.11/dist-packages (from datasets) (3.5.0)\n",
            "Requirement already satisfied: multiprocess<0.70.17 in /usr/local/lib/python3.11/dist-packages (from datasets) (0.70.15)\n",
            "Requirement already satisfied: fsspec<=2025.3.0,>=2023.1.0 in /usr/local/lib/python3.11/dist-packages (from fsspec[http]<=2025.3.0,>=2023.1.0->datasets) (2025.3.0)\n",
            "Requirement already satisfied: huggingface-hub>=0.24.0 in /usr/local/lib/python3.11/dist-packages (from datasets) (0.33.2)\n",
            "Requirement already satisfied: packaging in /usr/local/lib/python3.11/dist-packages (from datasets) (24.2)\n",
            "Requirement already satisfied: pyyaml>=5.1 in /usr/local/lib/python3.11/dist-packages (from datasets) (6.0.2)\n",
            "Requirement already satisfied: aiohttp!=4.0.0a0,!=4.0.0a1 in /usr/local/lib/python3.11/dist-packages (from fsspec[http]<=2025.3.0,>=2023.1.0->datasets) (3.11.15)\n",
            "Requirement already satisfied: typing-extensions>=3.7.4.3 in /usr/local/lib/python3.11/dist-packages (from huggingface-hub>=0.24.0->datasets) (4.14.1)\n",
            "Requirement already satisfied: hf-xet<2.0.0,>=1.1.2 in /usr/local/lib/python3.11/dist-packages (from huggingface-hub>=0.24.0->datasets) (1.1.5)\n",
            "Requirement already satisfied: charset-normalizer<4,>=2 in /usr/local/lib/python3.11/dist-packages (from requests>=2.32.2->datasets) (3.4.2)\n",
            "Requirement already satisfied: idna<4,>=2.5 in /usr/local/lib/python3.11/dist-packages (from requests>=2.32.2->datasets) (3.10)\n",
            "Requirement already satisfied: urllib3<3,>=1.21.1 in /usr/local/lib/python3.11/dist-packages (from requests>=2.32.2->datasets) (2.4.0)\n",
            "Requirement already satisfied: certifi>=2017.4.17 in /usr/local/lib/python3.11/dist-packages (from requests>=2.32.2->datasets) (2025.7.9)\n",
            "Requirement already satisfied: python-dateutil>=2.8.2 in /usr/local/lib/python3.11/dist-packages (from pandas->datasets) (2.9.0.post0)\n",
            "Requirement already satisfied: pytz>=2020.1 in /usr/local/lib/python3.11/dist-packages (from pandas->datasets) (2025.2)\n",
            "Requirement already satisfied: tzdata>=2022.7 in /usr/local/lib/python3.11/dist-packages (from pandas->datasets) (2025.2)\n",
            "Requirement already satisfied: aiohappyeyeballs>=2.3.0 in /usr/local/lib/python3.11/dist-packages (from aiohttp!=4.0.0a0,!=4.0.0a1->fsspec[http]<=2025.3.0,>=2023.1.0->datasets) (2.6.1)\n",
            "Requirement already satisfied: aiosignal>=1.1.2 in /usr/local/lib/python3.11/dist-packages (from aiohttp!=4.0.0a0,!=4.0.0a1->fsspec[http]<=2025.3.0,>=2023.1.0->datasets) (1.4.0)\n",
            "Requirement already satisfied: attrs>=17.3.0 in /usr/local/lib/python3.11/dist-packages (from aiohttp!=4.0.0a0,!=4.0.0a1->fsspec[http]<=2025.3.0,>=2023.1.0->datasets) (25.3.0)\n",
            "Requirement already satisfied: frozenlist>=1.1.1 in /usr/local/lib/python3.11/dist-packages (from aiohttp!=4.0.0a0,!=4.0.0a1->fsspec[http]<=2025.3.0,>=2023.1.0->datasets) (1.7.0)\n",
            "Requirement already satisfied: multidict<7.0,>=4.5 in /usr/local/lib/python3.11/dist-packages (from aiohttp!=4.0.0a0,!=4.0.0a1->fsspec[http]<=2025.3.0,>=2023.1.0->datasets) (6.6.3)\n",
            "Requirement already satisfied: propcache>=0.2.0 in /usr/local/lib/python3.11/dist-packages (from aiohttp!=4.0.0a0,!=4.0.0a1->fsspec[http]<=2025.3.0,>=2023.1.0->datasets) (0.3.2)\n",
            "Requirement already satisfied: yarl<2.0,>=1.17.0 in /usr/local/lib/python3.11/dist-packages (from aiohttp!=4.0.0a0,!=4.0.0a1->fsspec[http]<=2025.3.0,>=2023.1.0->datasets) (1.20.1)\n",
            "Requirement already satisfied: six>=1.5 in /usr/local/lib/python3.11/dist-packages (from python-dateutil>=2.8.2->pandas->datasets) (1.17.0)\n",
            "Collecting evaluate\n",
            "  Downloading evaluate-0.4.5-py3-none-any.whl.metadata (9.5 kB)\n",
            "Requirement already satisfied: datasets>=2.0.0 in /usr/local/lib/python3.11/dist-packages (from evaluate) (4.0.0)\n",
            "Requirement already satisfied: numpy>=1.17 in /usr/local/lib/python3.11/dist-packages (from evaluate) (2.0.2)\n",
            "Requirement already satisfied: dill in /usr/local/lib/python3.11/dist-packages (from evaluate) (0.3.7)\n",
            "Requirement already satisfied: pandas in /usr/local/lib/python3.11/dist-packages (from evaluate) (2.2.2)\n",
            "Requirement already satisfied: requests>=2.19.0 in /usr/local/lib/python3.11/dist-packages (from evaluate) (2.32.3)\n",
            "Requirement already satisfied: tqdm>=4.62.1 in /usr/local/lib/python3.11/dist-packages (from evaluate) (4.67.1)\n",
            "Requirement already satisfied: xxhash in /usr/local/lib/python3.11/dist-packages (from evaluate) (3.5.0)\n",
            "Requirement already satisfied: multiprocess in /usr/local/lib/python3.11/dist-packages (from evaluate) (0.70.15)\n",
            "Requirement already satisfied: fsspec>=2021.05.0 in /usr/local/lib/python3.11/dist-packages (from fsspec[http]>=2021.05.0->evaluate) (2025.3.0)\n",
            "Requirement already satisfied: huggingface-hub>=0.7.0 in /usr/local/lib/python3.11/dist-packages (from evaluate) (0.33.2)\n",
            "Requirement already satisfied: packaging in /usr/local/lib/python3.11/dist-packages (from evaluate) (24.2)\n",
            "Requirement already satisfied: filelock in /usr/local/lib/python3.11/dist-packages (from datasets>=2.0.0->evaluate) (3.18.0)\n",
            "Requirement already satisfied: pyarrow>=15.0.0 in /usr/local/lib/python3.11/dist-packages (from datasets>=2.0.0->evaluate) (18.1.0)\n",
            "Requirement already satisfied: pyyaml>=5.1 in /usr/local/lib/python3.11/dist-packages (from datasets>=2.0.0->evaluate) (6.0.2)\n",
            "Requirement already satisfied: aiohttp!=4.0.0a0,!=4.0.0a1 in /usr/local/lib/python3.11/dist-packages (from fsspec[http]>=2021.05.0->evaluate) (3.11.15)\n",
            "Requirement already satisfied: typing-extensions>=3.7.4.3 in /usr/local/lib/python3.11/dist-packages (from huggingface-hub>=0.7.0->evaluate) (4.14.1)\n",
            "Requirement already satisfied: hf-xet<2.0.0,>=1.1.2 in /usr/local/lib/python3.11/dist-packages (from huggingface-hub>=0.7.0->evaluate) (1.1.5)\n",
            "Requirement already satisfied: charset-normalizer<4,>=2 in /usr/local/lib/python3.11/dist-packages (from requests>=2.19.0->evaluate) (3.4.2)\n",
            "Requirement already satisfied: idna<4,>=2.5 in /usr/local/lib/python3.11/dist-packages (from requests>=2.19.0->evaluate) (3.10)\n",
            "Requirement already satisfied: urllib3<3,>=1.21.1 in /usr/local/lib/python3.11/dist-packages (from requests>=2.19.0->evaluate) (2.4.0)\n",
            "Requirement already satisfied: certifi>=2017.4.17 in /usr/local/lib/python3.11/dist-packages (from requests>=2.19.0->evaluate) (2025.7.9)\n",
            "Requirement already satisfied: python-dateutil>=2.8.2 in /usr/local/lib/python3.11/dist-packages (from pandas->evaluate) (2.9.0.post0)\n",
            "Requirement already satisfied: pytz>=2020.1 in /usr/local/lib/python3.11/dist-packages (from pandas->evaluate) (2025.2)\n",
            "Requirement already satisfied: tzdata>=2022.7 in /usr/local/lib/python3.11/dist-packages (from pandas->evaluate) (2025.2)\n",
            "Requirement already satisfied: aiohappyeyeballs>=2.3.0 in /usr/local/lib/python3.11/dist-packages (from aiohttp!=4.0.0a0,!=4.0.0a1->fsspec[http]>=2021.05.0->evaluate) (2.6.1)\n",
            "Requirement already satisfied: aiosignal>=1.1.2 in /usr/local/lib/python3.11/dist-packages (from aiohttp!=4.0.0a0,!=4.0.0a1->fsspec[http]>=2021.05.0->evaluate) (1.4.0)\n",
            "Requirement already satisfied: attrs>=17.3.0 in /usr/local/lib/python3.11/dist-packages (from aiohttp!=4.0.0a0,!=4.0.0a1->fsspec[http]>=2021.05.0->evaluate) (25.3.0)\n",
            "Requirement already satisfied: frozenlist>=1.1.1 in /usr/local/lib/python3.11/dist-packages (from aiohttp!=4.0.0a0,!=4.0.0a1->fsspec[http]>=2021.05.0->evaluate) (1.7.0)\n",
            "Requirement already satisfied: multidict<7.0,>=4.5 in /usr/local/lib/python3.11/dist-packages (from aiohttp!=4.0.0a0,!=4.0.0a1->fsspec[http]>=2021.05.0->evaluate) (6.6.3)\n",
            "Requirement already satisfied: propcache>=0.2.0 in /usr/local/lib/python3.11/dist-packages (from aiohttp!=4.0.0a0,!=4.0.0a1->fsspec[http]>=2021.05.0->evaluate) (0.3.2)\n",
            "Requirement already satisfied: yarl<2.0,>=1.17.0 in /usr/local/lib/python3.11/dist-packages (from aiohttp!=4.0.0a0,!=4.0.0a1->fsspec[http]>=2021.05.0->evaluate) (1.20.1)\n",
            "Requirement already satisfied: six>=1.5 in /usr/local/lib/python3.11/dist-packages (from python-dateutil>=2.8.2->pandas->evaluate) (1.17.0)\n",
            "Downloading evaluate-0.4.5-py3-none-any.whl (84 kB)\n",
            "\u001b[2K   \u001b[90m━━━━━━━━━━━━━━━━━━━━━━━━━━━━━━━━━━━━━━━━\u001b[0m \u001b[32m84.1/84.1 kB\u001b[0m \u001b[31m2.5 MB/s\u001b[0m eta \u001b[36m0:00:00\u001b[0m\n",
            "\u001b[?25hInstalling collected packages: evaluate\n",
            "Successfully installed evaluate-0.4.5\n",
            "Collecting rouge_score\n",
            "  Downloading rouge_score-0.1.2.tar.gz (17 kB)\n",
            "  Preparing metadata (setup.py) ... \u001b[?25l\u001b[?25hdone\n",
            "Requirement already satisfied: absl-py in /usr/local/lib/python3.11/dist-packages (from rouge_score) (1.4.0)\n",
            "Requirement already satisfied: nltk in /usr/local/lib/python3.11/dist-packages (from rouge_score) (3.9.1)\n",
            "Requirement already satisfied: numpy in /usr/local/lib/python3.11/dist-packages (from rouge_score) (2.0.2)\n",
            "Requirement already satisfied: six>=1.14.0 in /usr/local/lib/python3.11/dist-packages (from rouge_score) (1.17.0)\n",
            "Requirement already satisfied: click in /usr/local/lib/python3.11/dist-packages (from nltk->rouge_score) (8.2.1)\n",
            "Requirement already satisfied: joblib in /usr/local/lib/python3.11/dist-packages (from nltk->rouge_score) (1.5.1)\n",
            "Requirement already satisfied: regex>=2021.8.3 in /usr/local/lib/python3.11/dist-packages (from nltk->rouge_score) (2024.11.6)\n",
            "Requirement already satisfied: tqdm in /usr/local/lib/python3.11/dist-packages (from nltk->rouge_score) (4.67.1)\n",
            "Building wheels for collected packages: rouge_score\n",
            "  Building wheel for rouge_score (setup.py) ... \u001b[?25l\u001b[?25hdone\n",
            "  Created wheel for rouge_score: filename=rouge_score-0.1.2-py3-none-any.whl size=24934 sha256=9ddbdccdde3bafa1f0500b6f0f2e6c96677b208759e40294aea71fd36ca320fb\n",
            "  Stored in directory: /root/.cache/pip/wheels/1e/19/43/8a442dc83660ca25e163e1bd1f89919284ab0d0c1475475148\n",
            "Successfully built rouge_score\n",
            "Installing collected packages: rouge_score\n",
            "Successfully installed rouge_score-0.1.2\n"
          ]
        }
      ],
      "source": [
        "!pip install -U datasets\n",
        "!pip install -U evaluate\n",
        "!pip install rouge_score"
      ]
    },
    {
      "cell_type": "code",
      "source": [
        "from transformers import (AutoTokenizer, LEDConfig, LEDForConditionalGeneration)\n",
        "from datasets import load_dataset,Dataset, DatasetDict\n",
        "import torch"
      ],
      "metadata": {
        "id": "wQ9inGBq9sZt"
      },
      "execution_count": null,
      "outputs": []
    },
    {
      "cell_type": "code",
      "source": [
        "!git clone https://github.com/yaolu/Multi-XScience.git"
      ],
      "metadata": {
        "colab": {
          "base_uri": "https://localhost:8080/"
        },
        "collapsed": true,
        "id": "UN66N1e0-BlP",
        "outputId": "b496cb46-137c-47e5-b9ec-cc98d0e4bfff"
      },
      "execution_count": null,
      "outputs": [
        {
          "output_type": "stream",
          "name": "stdout",
          "text": [
            "fatal: destination path 'Multi-XScience' already exists and is not an empty directory.\n"
          ]
        }
      ]
    },
    {
      "cell_type": "code",
      "source": [
        "!gunzip /content/Multi-XScience/data/test.json.gz\n",
        "!gunzip /content/Multi-XScience/data/train.json.gz\n",
        "!gunzip /content/Multi-XScience/data/val.json.gz"
      ],
      "metadata": {
        "colab": {
          "base_uri": "https://localhost:8080/"
        },
        "id": "Sdfe2LGm-d2n",
        "outputId": "bdaee4ee-d39f-4e17-d90e-5d306564b7c8"
      },
      "execution_count": null,
      "outputs": [
        {
          "output_type": "stream",
          "name": "stdout",
          "text": [
            "gzip: /content/Multi-XScience/data/test.json.gz: No such file or directory\n",
            "gzip: /content/Multi-XScience/data/train.json.gz: No such file or directory\n",
            "gzip: /content/Multi-XScience/data/val.json.gz: No such file or directory\n"
          ]
        }
      ]
    },
    {
      "cell_type": "code",
      "source": [
        "import json\n",
        "\n",
        "train_path = '/content/Multi-XScience/data/train.json'\n",
        "val_path = '/content/Multi-XScience/data/val.json'\n",
        "test_path = '/content/Multi-XScience/data/test.json'\n",
        "\n",
        "\n",
        "with open(train_path, 'r', encoding='utf-8') as f:\n",
        "  dataset_train = json.load(f)\n",
        "\n",
        "with open(val_path, 'r', encoding='utf-8') as f:\n",
        "  dataset_val = json.load(f)\n",
        "\n",
        "with open(test_path, 'r', encoding='utf-8') as f:\n",
        "  dataset_test = json.load(f)"
      ],
      "metadata": {
        "id": "W4iF2eW5-pTw"
      },
      "execution_count": null,
      "outputs": []
    },
    {
      "cell_type": "code",
      "source": [
        "tokenizer = AutoTokenizer.from_pretrained('allenai/PRIMERA')\n",
        "\n",
        "config=LEDConfig.from_pretrained('allenai/PRIMERA')\n",
        "\n",
        "model = LEDForConditionalGeneration.from_pretrained('allenai/PRIMERA')\n",
        "model.gradient_checkpointing_enable()\n",
        "\n",
        "PAD_TOKEN_ID = tokenizer.pad_token_id\n",
        "DOCSEP_TOKEN_ID = tokenizer.convert_tokens_to_ids(\"<doc-sep>\")"
      ],
      "metadata": {
        "colab": {
          "base_uri": "https://localhost:8080/"
        },
        "collapsed": true,
        "id": "b8KGB4ZV-iU1",
        "outputId": "7f54867d-ca4b-4968-aede-21553bf966e1"
      },
      "execution_count": null,
      "outputs": [
        {
          "output_type": "stream",
          "name": "stderr",
          "text": [
            "/usr/local/lib/python3.11/dist-packages/huggingface_hub/utils/_auth.py:94: UserWarning: \n",
            "The secret `HF_TOKEN` does not exist in your Colab secrets.\n",
            "To authenticate with the Hugging Face Hub, create a token in your settings tab (https://huggingface.co/settings/tokens), set it as secret in your Google Colab and restart your session.\n",
            "You will be able to reuse this secret in all of your notebooks.\n",
            "Please note that authentication is recommended but still optional to access public models or datasets.\n",
            "  warnings.warn(\n"
          ]
        }
      ]
    },
    {
      "cell_type": "code",
      "source": [
        "def process_document(documents):\n",
        "    input_ids_all = []\n",
        "    for data in documents:\n",
        "        article = data.replace(\"\\n\", \" \")\n",
        "        article = \" \".join(article.split())\n",
        "        input_ids = tokenizer.encode(\n",
        "            article,\n",
        "            truncation=True,\n",
        "            max_length=4096,\n",
        "        )[1:-1]\n",
        "        input_ids = (\n",
        "            [tokenizer.bos_token_id]\n",
        "            + input_ids\n",
        "            + [tokenizer.eos_token_id]\n",
        "        )\n",
        "        input_ids_all.append(torch.tensor(input_ids))\n",
        "\n",
        "    input_ids = torch.nn.utils.rnn.pad_sequence(\n",
        "        input_ids_all, batch_first=True, padding_value=PAD_TOKEN_ID\n",
        "    )\n",
        "    return input_ids"
      ],
      "metadata": {
        "id": "L5GYBEOlAmM7"
      },
      "execution_count": null,
      "outputs": []
    },
    {
      "cell_type": "code",
      "source": [
        "def batch_process(batch):\n",
        "\n",
        "    ref_abstracts = []\n",
        "    for ref_dict in batch[\"ref_abstract\"]:\n",
        "        context_abstracts = []\n",
        "        for inner in ref_dict.values():\n",
        "            if isinstance(inner, dict) and \"abstract\" in inner:\n",
        "                context_abstracts.append(inner[\"abstract\"])\n",
        "        # Join all abstracts for this example\n",
        "        ref_abstracts.append(\" \".join(context_abstracts))\n",
        "\n",
        "\n",
        "    inputs = [a + \" \" + r\n",
        "              for a, r in zip(batch['abstract'], ref_abstracts)\n",
        "    ]\n",
        "    input_ids=process_document(inputs)\n",
        "    # get the input ids and attention masks together\n",
        "    global_attention_mask = torch.zeros_like(input_ids).to(input_ids.device)\n",
        "    # put global attention on <s> token\n",
        "\n",
        "    global_attention_mask[:, 0] = 1\n",
        "    global_attention_mask[input_ids == DOCSEP_TOKEN_ID] = 1\n",
        "    generated_ids = model.generate(\n",
        "        input_ids=input_ids,\n",
        "        global_attention_mask=global_attention_mask,\n",
        "        use_cache=True,\n",
        "        max_length=1024,\n",
        "        num_beams=5,\n",
        "    )\n",
        "    generated_str = tokenizer.batch_decode(\n",
        "            generated_ids.tolist(), skip_special_tokens=True\n",
        "        )\n",
        "\n",
        "    result={}\n",
        "    result['generated_summaries'] = generated_str\n",
        "    result['gt_summaries']=batch['related_work'] # Use the correctly extracted abstracts for the batch\n",
        "    return result"
      ],
      "metadata": {
        "id": "jR5MK-hxMy01"
      },
      "execution_count": null,
      "outputs": []
    },
    {
      "cell_type": "code",
      "source": [
        "import random\n",
        "\n",
        "test_dataset = Dataset.from_list(dataset_test)\n",
        "docs = random.choices(range(len(dataset_test)),k=5)\n",
        "docs"
      ],
      "metadata": {
        "colab": {
          "base_uri": "https://localhost:8080/"
        },
        "id": "C8Q1Ie6OEmt1",
        "outputId": "0f44e21e-0214-4392-dc4e-7ec0527e1f98"
      },
      "execution_count": null,
      "outputs": [
        {
          "output_type": "execute_result",
          "data": {
            "text/plain": [
              "[1906, 3562, 2356, 4050, 2975]"
            ]
          },
          "metadata": {},
          "execution_count": 102
        }
      ]
    },
    {
      "cell_type": "code",
      "source": [
        "dataset_small = test_dataset.select(docs)\n",
        "result_small = dataset_small.map(batch_process, batched=True, batch_size=2)"
      ],
      "metadata": {
        "colab": {
          "base_uri": "https://localhost:8080/",
          "height": 101,
          "referenced_widgets": [
            "c24b0a5450824202a0c2ee1c205367a6",
            "ae3421ccb71a4be7a2245f4aedfb21fd",
            "ff537000679e4cb9856b4b5742868474",
            "c02dab2914914ff49f4fa5997bb02437",
            "c4356737a6ce4c7ca1334ea898bfb2f6",
            "08ad640561a24720915d5b2c6e32e353",
            "dbed6e70a1ad4ab78e27a27def419c02",
            "67624e56d4c346f788fe8335d77a4c61",
            "bc8e41d112354b5693f85929e5119cf3",
            "07e1c0aaf4844354a5f64ff8c1bc754c",
            "fce279d4cbd947e98436baacae7bf069"
          ]
        },
        "id": "8PxPUjG9V9io",
        "outputId": "89f8a3af-a431-43f9-911b-75d3ac57340e"
      },
      "execution_count": null,
      "outputs": [
        {
          "output_type": "display_data",
          "data": {
            "text/plain": [
              "Map:   0%|          | 0/5 [00:00<?, ? examples/s]"
            ],
            "application/vnd.jupyter.widget-view+json": {
              "version_major": 2,
              "version_minor": 0,
              "model_id": "c24b0a5450824202a0c2ee1c205367a6"
            }
          },
          "metadata": {}
        },
        {
          "output_type": "stream",
          "name": "stderr",
          "text": [
            "Input ids are automatically padded from 943 to 1024 to be a multiple of `config.attention_window`: 512\n",
            "Input ids are automatically padded from 880 to 1024 to be a multiple of `config.attention_window`: 512\n",
            "Input ids are automatically padded from 843 to 1024 to be a multiple of `config.attention_window`: 512\n"
          ]
        }
      ]
    },
    {
      "cell_type": "code",
      "source": [
        "import evaluate\n",
        "\n",
        "rouge = evaluate.load(\"rouge\")"
      ],
      "metadata": {
        "colab": {
          "base_uri": "https://localhost:8080/",
          "height": 49,
          "referenced_widgets": [
            "e48339ec43a14e4cb74459e7d3e7ebb2",
            "f1376ee08cd74726957308f37a7a8702",
            "bcf7a89af69c42b48c86f00b7885063a",
            "2ff9d078f96f41f7b3bc1a26253c2195",
            "d1ec2d9865534d91b33d610c9ad84ad0",
            "5c8896fc9d7d42b3a6438ac5fd4503e2",
            "77a61bda6ede497386dd3af1e1054085",
            "29ba4770051a4130ac4911801b3acf0a",
            "63fac327d36c44c29a08be26daaa7dbd",
            "3d61ca0a30d74725ba61614675f2412a",
            "2fdcb53b01894ccc96240430eac6d408"
          ]
        },
        "id": "FoiWK7x8ftpr",
        "outputId": "459fc7d5-88ed-4dd6-8ab0-6ea6ccf449ef"
      },
      "execution_count": null,
      "outputs": [
        {
          "output_type": "display_data",
          "data": {
            "text/plain": [
              "Downloading builder script: 0.00B [00:00, ?B/s]"
            ],
            "application/vnd.jupyter.widget-view+json": {
              "version_major": 2,
              "version_minor": 0,
              "model_id": "e48339ec43a14e4cb74459e7d3e7ebb2"
            }
          },
          "metadata": {}
        }
      ]
    },
    {
      "cell_type": "code",
      "source": [
        "import textwrap\n",
        "\n",
        "for summ in result_small['generated_summaries']:\n",
        "    wrapped_summ = textwrap.fill(summ, 160)\n",
        "    print(wrapped_summ)\n",
        "    print(\"\\n\")"
      ],
      "metadata": {
        "collapsed": true,
        "colab": {
          "base_uri": "https://localhost:8080/"
        },
        "id": "PKY6SSGw19sc",
        "outputId": "d2d262be-0dda-4c56-981b-928f1a6ed1cb"
      },
      "execution_count": null,
      "outputs": [
        {
          "output_type": "stream",
          "name": "stdout",
          "text": [
            "Abstract In recent years, attention has been focused on the relationship between black-box optimization problem and reinforcement learning problem. A divergence\n",
            "measure between two probability distributions or positive arrays (positive measures) is a useful tool for solving optimization problems in optimization, signal\n",
            "processing, machine learning, and statistical inference. The Csiszar f-divergence is a unique class of divergences having information monotonicity, from which\n",
            "the dual alpha geometrical structure with the Fisher metric is derived. The Kullback-Leibler divergence is proved to belong to both classes, and this is the\n",
            "only such one in the space of probability distributions. This paper shows that the alpha-structure of the positive measures is the same as that of the negative\n",
            "measures, and that the Bregman divergence is a special case of the alpha structure. We show that the F-diversions are the canonical divergence functions derived\n",
            "from the dually flat geometry of the spaces of positive measures and that they are the only ones belonging to this class. We propose two essential algorithms,\n",
            "called MDS and Accelerated Mirror Descent Search (AMDS), and two more approximate algorithms: G-MDS and G-AMDS. These models are expressive and allow efficient\n",
            "computation of samples and derivatives, but cannot be used for computing likelihoods or for marginalization. The generative-adversarial training method allows\n",
            "to train such models through the use of an auxiliary discriminative neural network. We discuss the benefits of various choices of divergence functions on\n",
            "training complexity and the quality of the obtained generative models.\n",
            "\n",
            "\n",
            "A Wireless Body Area Network (WBAN) consists of different tiny physiological wearable sensors to monitor the vital signs of a human body and these sensor nodes\n",
            "transmit in real-time the sensed physiological information to the on-body coordinator or server over a wireless medium. Any radio frequency based wireless\n",
            "device suffers from interference due to the existence of other wireless devices operating in the same frequency band. In this paper we address the problem of\n",
            "interference when multiple WBANs come in the proximity of one another. We simulated the proposed solution using NS-3 network simulator and it is observed that\n",
            "there is improvement in the percentage of packet delivery by using the proposed scheme. It is found that opportunistic relaying is able to improve the signal-\n",
            "to-interference-plus-noise ratio (SINR) performance at an outage probability of 10 by an average of 5 dB, and it was also shown that it can reduce level\n",
            "crossing rate (LCR) significantly at low SINRs. .\n",
            "\n",
            "\n",
            "LiDAR-camera calibration is a precondition for many heterogeneous systems that fuse data from LiDAR and camera. However, the constraint from the common field of\n",
            "view and the requirement for strict time synchronization make the calibration a challenging problem. In this paper, we present a novel method for fully\n",
            "automatic and convenient extrinsic calibration of a 3D LIDAR and a panoramic camera with a normally printed chessboard. . The results of experiments, conducted\n",
            "on a Velodyne HDL-32e LiDar and a Ladybug3 camera under the proposed re-projection error metric, qualitatively and quantitatively demonstrate the accuracy and\n",
            "stability of the final extrinsical calibration parameters. . We derive the conditions of minimal observability for our method and discuss the influence on\n",
            "calibration accuracy from different placements of chessboards, which can be utilized as a guideline for designing high-accuracy calibration procedures. We\n",
            "validate our method on both simulation platform and real-world datasets. . Further, the calculated parameters are regarded as initial values and are refined\n",
            "using the Levenberg-Marquardt method. The performance of the proposed corner detection method from the 3D point cloud is evaluated using simulations. .\n",
            "\n",
            "\n",
            "Many visual recognition problems can be approached by counting instances. To determine whether an event is present in a long internet video, one could count how\n",
            "many frames seem to contain the activity. Classifying the activity of a group of people can be done by counting the actions of individual people. Encoding these\n",
            "cardinality relationships can reduce sensitivity to clutter, in the form of irrelevant frames or individuals not involved in a group activity. Learned\n",
            "parameters can encode how many instances tend to occur in a class of interest. To this end, this paper develops a powerful and flexible framework to infer any\n",
            "cardinality relation between latent labels in a multi-instance model. In this work, we propose a new approach to learn a robust classifier for text-based image\n",
            "retrieval (TBIR) using relevant and irrelevant training web images, in which we explicitly handle noise in the loose labels of training images. We present a new\n",
            "algorithm called MIL-CPB to effectively exploit such constraints on positive bags and predict the labels of test instances (images). We propose a large-margin\n",
            "formulation which treats the instance labels as hidden latent variables, and simultaneously infers the instances labels as well as the instance-level\n",
            "classification model. Our framework infers optimal solutions that assume positive videos have a large number of positive instances while negative videos have\n",
            "the fewest ones. The proposed method is also useful in explaining the detection results by localizing the temporal segments in a video which is responsible for\n",
            "the positive detection.\n",
            "\n",
            "\n",
            "Smile is one of the key elements in identifying emotions and present state of mind of an individual. In this work, we propose a cluster of approaches to\n",
            "classify posed and spontaneous smiles using deep convolutional neural network (CNN) face features, local phase quantization (LPQ), dense optical flow and\n",
            "histogram of gradient (HOG). Although the deep CNN face model is trained with large number of face images, HOG features outperforms this model for overall face\n",
            "smile classification task. The collected database consists of 1240 samples of 400 subjects. Moreover, it has the unique property of having an age range from 8\n",
            "to 76 years. Large scale experiments on the new database indicate that eyelid dynamics are highly relevant for smile classification, and there are age-related\n",
            "differences in smile dynamics. We investigated movement differences between deliberately posed and spontaneously occurring smiles and eyebrow raises during a\n",
            "videotaped interview that included a facial movement assessment. We also introduced the largest spontaneous posed enjoyment smile database collected to date,\n",
            "and report new empirical and conceptual findings on smile dynamics by using the dynamics of eyelid, cheek, and lip corner movements.\n",
            "\n",
            "\n"
          ]
        }
      ]
    },
    {
      "cell_type": "code",
      "source": [
        "score=rouge.compute(predictions=result_small[\"generated_summaries\"], references=result_small[\"gt_summaries\"])\n",
        "\n",
        "print(f\"ROUGE-1: {score['rouge1']:.4f}\")\n",
        "print(f\"ROUGE-2: {score['rouge2']:.4f}\")\n",
        "print(f\"ROUGE-L: {score['rougeL']:.4f}\")"
      ],
      "metadata": {
        "colab": {
          "base_uri": "https://localhost:8080/"
        },
        "id": "3O0J9Abd2Ca4",
        "outputId": "1bf66f72-ae6e-4cf8-baf3-1490c73a0734"
      },
      "execution_count": null,
      "outputs": [
        {
          "output_type": "stream",
          "name": "stdout",
          "text": [
            "ROUGE-1: 0.2638\n",
            "ROUGE-2: 0.0436\n",
            "ROUGE-L: 0.1322\n"
          ]
        }
      ]
    },
    {
      "cell_type": "code",
      "source": [
        "example = dataset_small[4]\n",
        "\n",
        "display(example)\n",
        "#display(example_summ)"
      ],
      "metadata": {
        "colab": {
          "base_uri": "https://localhost:8080/",
          "height": 1000
        },
        "id": "1iowq_A22I8O",
        "outputId": "d0b90fa8-9dbe-48d4-811d-a42765b5114a"
      },
      "execution_count": null,
      "outputs": [
        {
          "output_type": "display_data",
          "data": {
            "text/plain": [
              "{'aid': '1701.01573',\n",
              " 'mid': '2952318175',\n",
              " 'abstract': \"Smile is one of the key elements in identifying emotions and present state of mind of an individual. In this work, we propose a cluster of approaches to classify posed and spontaneous smiles using deep convolutional neural network (CNN) face features, local phase quantization (LPQ), dense optical flow and histogram of gradient (HOG). Eulerian Video Magnification (EVM) is used for micro-expression smile amplification along with three normalization procedures for distinguishing posed and spontaneous smiles. Although the deep CNN face model is trained with large number of face images, HOG features outperforms this model for overall face smile classification task. Using EVM to amplify micro-expressions did not have a significant impact on classification accuracy, while the normalizing facial features improved classification accuracy. Unlike many manual or semi-automatic methodologies, our approach aims to automatically classify all smiles into either spontaneous' or posed' categories, by using support vector machines (SVM). Experimental results on large UvA-NEMO smile database show promising results as compared to other relevant methods.\",\n",
              " 'related_work': 'In early years of research, it was thought that the morphological features of the face were good indicators of a spontaneous smile. The Facial Action Coding System (FACS) @cite_37 defines Action Units (AU), which are the contraction or relaxation of one or more muscles. It is commonly used to code facial expressions, and can be used to identify emotions. In FACS, a smile corresponds to AU12, which is the contraction of the zygomatic major muscle that raises the lip corners. A genuine smile of joy is thought to include AU6, also known as the Duchenne Marker, which is the contraction of the orbicularis oculi (pars lateralis) muscle that raises the cheek, narrows the eye aperture, and forms wrinkles on the external sides of the eyes. However, recent research casts doubt on the reliability of Duchenne marker in identifying true feelings of enjoyment @cite_10 . Another possible marker of spontaneous smiles is the symmetry of the smile. Initial studies claim that smile symmetry is a factor in identifying spontaneous smiles, where spontaneous smiles are more symmetrical than posed smiles @cite_29 . However, later studies report no significant differences of symmetry @cite_1 @cite_19 .',\n",
              " 'ref_abstract': {'@cite_0': None,\n",
              "  '@cite_1': {'abstract': 'Smiling is an indispensable element of nonverbal social interaction. Besides, automatic distinction between spontaneous and posed expressions is important for visual analysis of social signals. Therefore, in this paper, we propose a method to distinguish between spontaneous and posed enjoyment smiles by using the dynamics of eyelid, cheek, and lip corner movements. The discriminative power of these movements, and the effect of different fusion levels are investigated on multiple databases. Our results improve the state-of-the-art. We also introduce the largest spontaneous posed enjoyment smile database collected to date, and report new empirical and conceptual findings on smile dynamics. The collected database consists of 1240 samples of 400 subjects. Moreover, it has the unique property of having an age range from 8 to 76 years. Large scale experiments on the new database indicate that eyelid dynamics are highly relevant for smile classification, and there are age-related differences in smile dynamics.',\n",
              "   'mid': '1596560700'},\n",
              "  '@cite_10': {'abstract': 'We investigated the value of the Duchenne (D) smile as a spontaneous sign of felt enjoyment. Participants either smiled spontaneously in response to amusing material (spontaneous condition) or were instructed to pose a smile (deliberate condition). Similar amounts of D and non-Duchenne (ND) smiles were observed in these 2 conditions (Experiment 1). When subsets of these smiles were presented to other participants, they generally rated spontaneous and deliberate D and ND smiles differently. Moreover, they distinguished between D smiles of varying intensity within the spontaneous condition (Experiment 2). Such a differentiation was also made when seeing the upper or lower face only (Experiment 3), but was impaired for static compared with dynamic displays (Experiment 4). The predictive value of the D smile in these judgment studies was limited compared with other features such as asymmetry, apex duration, and nonpositive facial actions, and was only significant for ratings of the upper face and static displays. These findings raise doubts about the reliability and validity of the D smile and question the usefulness of facial descriptions in identifying true feelings of enjoyment.',\n",
              "   'mid': '2121142672'},\n",
              "  '@cite_100': None,\n",
              "  '@cite_101': None,\n",
              "  '@cite_102': None,\n",
              "  '@cite_104': None,\n",
              "  '@cite_105': None,\n",
              "  '@cite_106': None,\n",
              "  '@cite_107': None,\n",
              "  '@cite_108': None,\n",
              "  '@cite_109': None,\n",
              "  '@cite_11': None,\n",
              "  '@cite_110': None,\n",
              "  '@cite_111': None,\n",
              "  '@cite_113': None,\n",
              "  '@cite_114': None,\n",
              "  '@cite_115': None,\n",
              "  '@cite_116': None,\n",
              "  '@cite_118': None,\n",
              "  '@cite_119': None,\n",
              "  '@cite_12': None,\n",
              "  '@cite_120': None,\n",
              "  '@cite_121': None,\n",
              "  '@cite_122': None,\n",
              "  '@cite_123': None,\n",
              "  '@cite_124': None,\n",
              "  '@cite_125': None,\n",
              "  '@cite_126': None,\n",
              "  '@cite_127': None,\n",
              "  '@cite_128': None,\n",
              "  '@cite_129': None,\n",
              "  '@cite_13': None,\n",
              "  '@cite_130': None,\n",
              "  '@cite_131': None,\n",
              "  '@cite_132': None,\n",
              "  '@cite_133': None,\n",
              "  '@cite_134': None,\n",
              "  '@cite_135': None,\n",
              "  '@cite_14': None,\n",
              "  '@cite_141': None,\n",
              "  '@cite_144': None,\n",
              "  '@cite_145': None,\n",
              "  '@cite_15': None,\n",
              "  '@cite_159': None,\n",
              "  '@cite_16': None,\n",
              "  '@cite_168': None,\n",
              "  '@cite_17': None,\n",
              "  '@cite_177': None,\n",
              "  '@cite_18': None,\n",
              "  '@cite_19': {'abstract': 'We investigated movement differences between deliberately posed and spontaneously occurring smiles and eyebrow raises during a videotaped interview that included a facial movement assessment. Using automated facial image analysis, we quantified lip corner and eyebrow movement during periods of visible smiles and eyebrow raises and compared facial movement within participants. As in an earlier study, maximum speed of movement onset was greater in deliberate smiles. Maximum speed and amplitude were greater and duration shorter in deliberate compared to spontaneous eyebrow raises. Asymmetry of movement did not differ within participants. Similar patterns contrasting deliberate and spontaneous movement in both smiles and eyebrow raises suggest a common pattern of signaling for spontaneous facial displays.',\n",
              "   'mid': '2144697550'},\n",
              "  '@cite_2': None,\n",
              "  '@cite_20': None,\n",
              "  '@cite_202': None,\n",
              "  '@cite_21': None,\n",
              "  '@cite_22': None,\n",
              "  '@cite_23': None,\n",
              "  '@cite_24': None,\n",
              "  '@cite_25': None,\n",
              "  '@cite_26': None,\n",
              "  '@cite_27': None,\n",
              "  '@cite_28': None,\n",
              "  '@cite_29': {'abstract': 'Asymmetries of the smiling facial movement were more frequent in deliberate imitations than spontaneous emotional expressions. When asymmetries did occur they were usually stronger on the left side of the face if the smile was deliberate. Asymmetrical emotional expressions, however, were about equally divided between those stronger on the left side of the face and those stronger on the right. Similar findings were obtained for the actions involved in negative emotions, but a small data base made these results tentative.',\n",
              "   'mid': '2028016407'},\n",
              "  '@cite_3': None,\n",
              "  '@cite_30': None,\n",
              "  '@cite_31': None,\n",
              "  '@cite_32': None,\n",
              "  '@cite_33': None,\n",
              "  '@cite_34': None,\n",
              "  '@cite_35': None,\n",
              "  '@cite_36': None,\n",
              "  '@cite_37': {'abstract': '', 'mid': '69567567'},\n",
              "  '@cite_38': None,\n",
              "  '@cite_39': None,\n",
              "  '@cite_4': None,\n",
              "  '@cite_40': None,\n",
              "  '@cite_41': None,\n",
              "  '@cite_42': None,\n",
              "  '@cite_43': None,\n",
              "  '@cite_44': None,\n",
              "  '@cite_45': None,\n",
              "  '@cite_46': None,\n",
              "  '@cite_47': None,\n",
              "  '@cite_48': None,\n",
              "  '@cite_49': None,\n",
              "  '@cite_5': None,\n",
              "  '@cite_50': None,\n",
              "  '@cite_51': None,\n",
              "  '@cite_52': None,\n",
              "  '@cite_53': None,\n",
              "  '@cite_54': None,\n",
              "  '@cite_55': None,\n",
              "  '@cite_56': None,\n",
              "  '@cite_57': None,\n",
              "  '@cite_58': None,\n",
              "  '@cite_59': None,\n",
              "  '@cite_6': None,\n",
              "  '@cite_60': None,\n",
              "  '@cite_61': None,\n",
              "  '@cite_62': None,\n",
              "  '@cite_63': None,\n",
              "  '@cite_64': None,\n",
              "  '@cite_65': None,\n",
              "  '@cite_66': None,\n",
              "  '@cite_67': None,\n",
              "  '@cite_68': None,\n",
              "  '@cite_69': None,\n",
              "  '@cite_7': None,\n",
              "  '@cite_70': None,\n",
              "  '@cite_71': None,\n",
              "  '@cite_72': None,\n",
              "  '@cite_73': None,\n",
              "  '@cite_74': None,\n",
              "  '@cite_75': None,\n",
              "  '@cite_76': None,\n",
              "  '@cite_77': None,\n",
              "  '@cite_78': None,\n",
              "  '@cite_79': None,\n",
              "  '@cite_8': None,\n",
              "  '@cite_80': None,\n",
              "  '@cite_81': None,\n",
              "  '@cite_82': None,\n",
              "  '@cite_83': None,\n",
              "  '@cite_84': None,\n",
              "  '@cite_85': None,\n",
              "  '@cite_86': None,\n",
              "  '@cite_87': None,\n",
              "  '@cite_88': None,\n",
              "  '@cite_89': None,\n",
              "  '@cite_9': None,\n",
              "  '@cite_90': None,\n",
              "  '@cite_91': None,\n",
              "  '@cite_92': None,\n",
              "  '@cite_93': None,\n",
              "  '@cite_94': None,\n",
              "  '@cite_95': None,\n",
              "  '@cite_96': None,\n",
              "  '@cite_97': None,\n",
              "  '@cite_98': None,\n",
              "  '@cite_99': None}}"
            ]
          },
          "metadata": {}
        }
      ]
    },
    {
      "cell_type": "code",
      "source": [],
      "metadata": {
        "id": "NxaacvHgOwI1"
      },
      "execution_count": null,
      "outputs": []
    }
  ]
}